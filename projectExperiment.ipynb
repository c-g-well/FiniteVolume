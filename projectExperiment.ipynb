{
  "cells": [
    {
      "cell_type": "markdown",
      "metadata": {
        "id": "view-in-github",
        "colab_type": "text"
      },
      "source": [
        "<a href=\"https://colab.research.google.com/github/c-g-well/TrafficFlow/blob/main/projectExperiment.ipynb\" target=\"_parent\"><img src=\"https://colab.research.google.com/assets/colab-badge.svg\" alt=\"Open In Colab\"/></a>"
      ]
    },
    {
      "cell_type": "code",
      "execution_count": null,
      "metadata": {
        "id": "KK_7g7xIiuJv"
      },
      "outputs": [],
      "source": [
        "import numpy as np\n",
        "import matplotlib.pyplot as plt\n",
        "from IPython.display import clear_output\n",
        "import time"
      ]
    },
    {
      "cell_type": "code",
      "execution_count": null,
      "metadata": {
        "id": "WcDaciPxiuJ3",
        "outputId": "234d022b-b41e-46cf-ba5c-0ff0ab445a5a"
      },
      "outputs": [
        {
          "name": "stderr",
          "output_type": "stream",
          "text": [
            "C:\\Users\\cgwel\\AppData\\Local\\Temp\\ipykernel_20424\\1139771410.py:28: RuntimeWarning: invalid value encountered in cast\n",
            "  ustar[1:-1] = 0.5*(un[n-1,2:] + un[n-1,:-2]) - dt/(2*dx)*(f(un[n-1,2:]) - f(un[n-1,:-2]))\n"
          ]
        },
        {
          "data": {
            "image/png": "[encoded data removed]",
            "text/plain": [
              "<Figure size 1100x700 with 1 Axes>"
            ]
          },
          "metadata": {},
          "output_type": "display_data"
        }
      ],
      "source": [
        "import numpy as np\n",
        "import matplotlib.pyplot as plt\n",
        "\n",
        "# Define the mesh generator\n",
        "def mesh_generator_1d(x_l, x_r, n_nodes):\n",
        "    h = (x_r - x_l) / (n_nodes-1)\n",
        "    x_coords = np.linspace(x_l, x_r, n_nodes)\n",
        "    return h, x_coords\n",
        "\n",
        "# Define the initial condition\n",
        "def u_initial(x):\n",
        "    return np.where(x <= 0, 3, 1)\n",
        "\n",
        "# Define the exact solution\n",
        "def u_exact(x, t):\n",
        "    return np.where(x < 2*t, 3, 1)\n",
        "\n",
        "# Define the flux function\n",
        "def f(u):\n",
        "    return np.power(u, 2) / 2\n",
        "\n",
        "def godunov(u, nt, dt, dx):\n",
        "    \"\"\" Computes the solution with the Godunov scheme \"\"\"\n",
        "    un = np.zeros((nt,len(u)))\n",
        "    un[:,:] = u.copy()\n",
        "    ustar = u.copy()\n",
        "    for n in range(1,nt):\n",
        "        ustar[1:-1] = 0.5*(un[n-1,2:] + un[n-1,:-2]) - dt/(2*dx)*(f(un[n-1,2:]) - f(un[n-1,:-2]))\n",
        "        un[n,1:-1] = un[n-1,1:-1] - dt/dx*(f(ustar[2:]) - f(ustar[1:-1]))\n",
        "    return un\n",
        "\n",
        "# Set initial condition\n",
        "x_l = -1\n",
        "x_r = 1\n",
        "n_nodes = 81\n",
        "nt = 25\n",
        "dt = .02\n",
        "\n",
        "h, x = mesh_generator_1d(x_l, x_r, n_nodes)\n",
        "u = u_initial(x)\n",
        "\n",
        "un = godunov(u, nt, dt, h)\n",
        "\n",
        "fig = plt.figure(figsize=(11, 7), dpi=100)\n",
        "plt.plot(x, un[-1,:], marker='o', lw=2)\n",
        "plt.xlim([x_l, x_r])\n",
        "plt.ylim([1, 3.5]);\n"
      ]
    },
    {
      "cell_type": "markdown",
      "metadata": {
        "id": "42-1e42HiuJ6"
      },
      "source": [
        "Let $\\rho$ denote the density of cars (i.e vehicles per mile)\n",
        "$\\rho$ is restricted to a certian range $0 \\leq \\rho \\leq \\rho_{max}$\n",
        "\n",
        "Since cars are conserved the density and velocity must be related by the continuity equation\n",
        "\n",
        "$$\\rho_t + (\\rho u)_x = 0 $$\n",
        "\n",
        "To obtain a scalar conservation law for $\\rho$ we assume $u$ is a given function of $\\rho$. On a highway we drive at some speed $u_{max}$\n",
        "\n",
        "The velocity decreasing as density increases\n",
        "$$u(\\rho) = u_{max} \\frac{1-\\rho}{\\rho_{max}}$$\n",
        "$$u_{max}= max \\,speed$$\n",
        "\n",
        "\n",
        "At zero density the speed is $u_{max}$, but decreases to zero as $\\rho$ increases\n",
        "$$\\rho_t + f(\\rho)_x = 0 $$\n",
        "$$f(\\rho) = \\rho_{max}(1-\\frac{\\rho}{\\rho_{max}}) $$\n",
        "\n",
        "\n",
        "Speed\n",
        "$$s = \\frac{f(\\rho_l)-f(\\rho_r)}{\\rho_l = \\rho_r} = u_{max}(1-\\frac{(\\rho_l + \\rho_r)}{\\rho_{max}})$$\n",
        "The Entropy condition says that a propagating shock must satisfy $f'(\\rho_l) > f'(\\rho_r)$ which requires $\\rho_l < \\rho_r$. $f$ is concave rather than convex.\n",
        "\n",
        "Initial data\n",
        "\\begin{equation}\n",
        "    \\rho(x,0) = \\left\\{\n",
        "        \\begin{aligned}\n",
        "        \\rho_l \\,\\, if \\,\\, x<0 \\\\\n",
        "        \\rho_r \\,\\, if \\,\\, x>0\n",
        "        \\end{aligned}\n",
        "        \\right.\n",
        "\\end{equation}\n",
        "The solution is a shock wave traveling with speed $s$\n",
        "(Leveque 4.1 pg 42)\n",
        "\n",
        "\n"
      ]
    },
    {
      "cell_type": "markdown",
      "metadata": {
        "id": "VjecvXZeiuJ_"
      },
      "source": [
        "1. Background and Motivation\n",
        "Traffic flow describes the relationship between infrastructure e.g. speed limits, traffic controls such as stop lights and stop signs, etc. and travelers. Traffic behaves in a nonlinear and complex way, depending on the interactions between human drivers, and can exhibit shock and rarefaction wave behavior i.e. spontaneous traffic jams. Such behavior can be partially modeled using mathematical means such as partial differential equations and subsequent numerical analysis. Studying PDE traffic flow models provide insight on how to improve the efficiency of transportation systems, reducing traffic jams, accidents, etc.\n",
        "\n",
        "2. Description of Numerical Method\n",
        "We employ Godunov’s method, which is first-order accurate in both space and time Verify?, to solve this problem as follows:\n",
        "$$\\bar u^{n+1}_j = \\bar u^{n}_j - \\lambda(f(^*_j+1/2)-f(^*_j-1/2))$$\n",
        "Here, $\\lambda = \\frac{\\Delta t}{\\Delta x}$, $\\bar u$\n",
        "Godunov’s method is a finite volume method where\n",
        "\n",
        "The Riemann problem is a piecewise initial condition with one discontinuity as follows:  \n",
        "$$ u_0(x)=   \\left\\{\n",
        "\\begin{array}{ll}\n",
        "      u_L, & x<0\\\\\n",
        "      u_R, & x>0\\\\\n",
        "\\end{array}\n",
        "\\right.  $$\n",
        "In the traffic flow model, when $u_L>u_R$, we expect a continuous rarefaction wave analogous to a breakup of a traffic jam or in the case where $u_R=0$, cars accelerating at a stoplight turning green. When $u_R<u_L$, we expect the formation of a shock wave analogous to the beginning of a traffic jam.\n",
        "\n",
        "3. Theory\n",
        "Perhaps one of the simplest models of traffic flow is the scalar conservation law $\\rho_{t} + (\\rho u)_{x} = 0$ where $\\rho$ denotes the density of cars (in terms of number of vehicles in a given length) and $u$ the velocity. The conservative form of this law becomes $\\rho_{t} + f(\\rho)_{x} = 0$ where $u(\\rho) = u_{max}(1 - \\frac{\\rho}{\\rho_{max}})$ with flux equation $f(\\rho) = \\rho u_{max}(1 - \\frac{\\rho}{\\rho_{max}})$\n",
        "\n",
        "We note that the second derivative of the flux term with respect to $\\rho$ is $\\frac{\\partial^2 f}{\\partial \\rho ^2} = \\frac{-2u_{max}}{\\rho_{max}}$ so the flux function is non convex. As a result of the non convex flux, the entropy solution must satisfy the following condition to be physically relevant: $$\\frac{f(u)-f(u_L)}{u-u_L} \\geq s \\geq \\frac{f(u)-f(u_R)}{u-u_R}$$\n",
        "\n",
        "We also note that the equation is nonlinear so the solution can develop both shock and rarefaction waves, with discontinuities not necessarily traveling along characteristics.\n",
        "Implications of nonlinearity, stability?\n",
        "\n",
        "\n",
        "https://www.its.uci.edu/~wjin/publications/jin2000thesis.pdf\n",
        "\n",
        "\n",
        "Timeline:\n",
        "\n",
        "17-April: Numerical description godunov method + Riemann problem\n",
        "debugging convergence analysis, stability (nonlinear stability in our case): $\\textbf{\\underline{Numerical methods for conservation laws from analysis to algorithms}} $ (Jan Hesthaven) and $\\textbf{\\underline{Numerical methods for conservation laws}}$ (Randall LeVeque) books have it\n",
        "\n",
        "24-April: theory: what's the advantage of the method, where it’s used etc. Reimann problem\n",
        "\n",
        "1-May: want the whole project description, mathematical method, code\n"
      ]
    },
    {
      "cell_type": "markdown",
      "metadata": {
        "id": "4tU2X807iuKD"
      },
      "source": [
        "$\\textbf{1-D Advection equation } $\n",
        "\\begin{equation}\n",
        "       \\partial_t u + \\partial_x u = 0,\n",
        "\\end{equation}"
      ]
    },
    {
      "cell_type": "markdown",
      "metadata": {
        "id": "rmXCf0bziuKF"
      },
      "source": [
        "$\\textbf{Algorithm 4.1 Reconstruct-evolve-average } $(Leveuqe FVM red book pg 76)\n",
        "1. Reconstruct a piecewise polynomial function $\\tilde{q}^n(x, t_n)$ defined for all x, from the cell\n",
        "averages $Q_n$\n",
        "In the simplest case this is a piecewise constant function that takes the\n",
        "value $Q_n$ in the ith grid cell, i.e.,\n",
        "$$\\tilde{q}^n(x, t_n) = Q_i^n \\text{ for all x} \\in C_i$$\n",
        "\n",
        "2. Evolve the hyperbolic equation exactly (or approximately) with this initial data to obtain\n",
        "$\\tilde{q}^n(x, t_{n+1})$ a time $\\Delta t$ later.\n",
        "\n",
        "3. Average this function over each grid cell to obtain new cell averages\n",
        "$$Q_i^{n+1} = \\frac{1}{\\Delta x} \\int_{C_i} \\tilde{q}^n(x, t_{n+1}) dx\n"
      ]
    },
    {
      "cell_type": "code",
      "execution_count": null,
      "metadata": {
        "id": "zlZatpPmiuKI"
      },
      "outputs": [],
      "source": []
    },
    {
      "cell_type": "code",
      "execution_count": null,
      "metadata": {
        "id": "PYu8PKK-iuKK"
      },
      "outputs": [],
      "source": [
        "# Define the mesh generator\n",
        "def mesh_generator_1d(x_l, x_r, n_nodes):\n",
        "    h = (x_r - x_l) / (n_nodes-1)\n",
        "    x_coords = np.linspace(x_l, x_r, n_nodes)\n",
        "    return h, x_coords\n",
        "\n",
        "# Define the initial condition function g(x)\n",
        "def g(x):\n",
        "    return np.where(x<0, 2, 1)\n",
        "\n"
      ]
    },
    {
      "cell_type": "code",
      "execution_count": null,
      "metadata": {
        "id": "TR2k0juKiuKN"
      },
      "outputs": [],
      "source": [
        "\n",
        "def jumpFinder(arr):\n",
        "    return np.where(np.diff(arr) != 0)[0] + 1\n",
        "\n",
        "def plotArray(arr):\n",
        "    indices = np.arange(len(arr))\n",
        "\n",
        "    plt.figure(figsize=(10, 6))\n",
        "    plt.plot(indices, arr, marker='o')\n",
        "    plt.title('Plot of Array')\n",
        "    plt.xlabel('Index')\n",
        "    plt.ylabel('Value')\n",
        "    plt.grid(True)\n",
        "    plt.show()\n",
        "\n",
        "\n",
        "\n"
      ]
    },
    {
      "cell_type": "code",
      "execution_count": null,
      "metadata": {
        "id": "xFabDJMUiuKT",
        "outputId": "11c2e63a-a165-4213-ce14-86a37577795c"
      },
      "outputs": [
        {
          "data": {
            "text/plain": [
              "array([2, 2, 1, 1])"
            ]
          },
          "execution_count": 114,
          "metadata": {},
          "output_type": "execute_result"
        }
      ],
      "source": [
        "h,x = mesh_generator_1d(-1,1,4)\n",
        "t0 = 0\n",
        "x\n",
        "\n",
        "dt = 0.5*h\n",
        "Q = g(x)\n",
        "g(x)\n",
        "\n",
        "# rea_advection(Q,c,dt,h)\n",
        "\n",
        "# np.linalg.norm(np.abs(rea_advection(Q,c,dt,h)-g(x-c*T)),ord = 1)\n"
      ]
    },
    {
      "cell_type": "code",
      "execution_count": null,
      "metadata": {
        "id": "1Emi1wmRiuKX",
        "outputId": "f259e754-8c29-4bd7-8cff-e7a82bb50ba0"
      },
      "outputs": [
        {
          "data": {
            "text/plain": [
              "array([2, 2, 1, 1, 1])"
            ]
          },
          "execution_count": 50,
          "metadata": {},
          "output_type": "execute_result"
        }
      ],
      "source": [
        "g(x)\n"
      ]
    },
    {
      "cell_type": "code",
      "execution_count": null,
      "metadata": {
        "id": "F9-lwGCXiuKY",
        "outputId": "5eb4363f-6aa6-4254-9ae6-bc4fa390d7a3"
      },
      "outputs": [
        {
          "data": {
            "text/plain": [
              "array([2], dtype=int64)"
            ]
          },
          "execution_count": 66,
          "metadata": {},
          "output_type": "execute_result"
        }
      ],
      "source": [
        "jumpFinder(g(x))"
      ]
    },
    {
      "cell_type": "code",
      "execution_count": null,
      "metadata": {
        "id": "PSzkoDpviuKa",
        "outputId": "c74c14a4-fbe3-4f44-d6c9-4f745745fbea"
      },
      "outputs": [
        {
          "data": {
            "image/png": "[encoded data removed]",
            "text/plain": [
              "<Figure size 1000x600 with 1 Axes>"
            ]
          },
          "metadata": {},
          "output_type": "display_data"
        }
      ],
      "source": [
        "\n",
        "#Reconstruct\n",
        "x\n",
        "u0 = g(x)\n",
        "u0\n",
        "dt\n",
        "plotArray(u0)\n",
        "\n",
        "\n"
      ]
    },
    {
      "cell_type": "code",
      "execution_count": null,
      "metadata": {
        "id": "hr-HJvw1iuKc",
        "outputId": "4d0944c6-f514-41b6-81f3-af7d039f6c2e"
      },
      "outputs": [
        {
          "data": {
            "text/plain": [
              "1.9999999999999998"
            ]
          },
          "execution_count": 121,
          "metadata": {},
          "output_type": "execute_result"
        }
      ],
      "source": [
        "(u[2]*(h-1*dt*1) + u[1]*(1*dt*1 -(-0.5)))"
      ]
    },
    {
      "cell_type": "code",
      "execution_count": null,
      "metadata": {
        "id": "h50fc10wiuKf",
        "outputId": "c9a0704a-f745-4665-b037-eac766b41d83"
      },
      "outputs": [
        {
          "data": {
            "text/plain": [
              "0.6666666666666666"
            ]
          },
          "execution_count": 120,
          "metadata": {},
          "output_type": "execute_result"
        }
      ],
      "source": [
        "h"
      ]
    },
    {
      "cell_type": "code",
      "execution_count": null,
      "metadata": {
        "id": "1189hlYDiuKg",
        "outputId": "fca2227f-03ac-4399-ac94-a414af67d029"
      },
      "outputs": [
        {
          "data": {
            "text/plain": [
              "array([2, 2, 1, 1, 1])"
            ]
          },
          "execution_count": 108,
          "metadata": {},
          "output_type": "execute_result"
        }
      ],
      "source": [
        "u"
      ]
    },
    {
      "cell_type": "code",
      "execution_count": null,
      "metadata": {
        "id": "ZfK5GdrNiuKj",
        "outputId": "4e87f859-255a-411f-c1f3-6bd9425ab36f"
      },
      "outputs": [
        {
          "data": {
            "text/plain": [
              "array([-1. , -0.5,  0. ,  0.5,  1. ])"
            ]
          },
          "execution_count": 106,
          "metadata": {},
          "output_type": "execute_result"
        }
      ],
      "source": [
        "x"
      ]
    },
    {
      "cell_type": "code",
      "execution_count": null,
      "metadata": {
        "id": "15OIy2eKiuKj"
      },
      "outputs": [],
      "source": [
        "def rea(x,k,dt,a):\n",
        ""
      ]
    },
    {
      "cell_type": "code",
      "execution_count": null,
      "metadata": {
        "id": "CBxBhgR1iuKl"
      },
      "outputs": [],
      "source": [
        "def rea_advection(Q, c, dt, dx):\n",
        "    # Number of grid cells\n",
        "    n = len(Q)\n",
        "\n",
        "    # Step 1: Reconstruct\n",
        "    q_tilde = Q.copy()\n",
        "\n",
        "    # Step 2: Evolve\n",
        "    q_tilde_next = np.zeros_like(q_tilde)\n",
        "    for i in range(n):\n",
        "        if i == 0:  # boundary condition\n",
        "            q_tilde_next[i] = q_tilde[i] - c * dt / dx * (q_tilde[i] - q_tilde[-1])\n",
        "        else:\n",
        "            q_tilde_next[i] = q_tilde[i] - c * dt / dx * (q_tilde[i] - q_tilde[i-1])\n",
        "\n",
        "    # Apply periodic boundary conditions\n",
        "    q_tilde_next[0] = q_tilde_next[-1]\n",
        "\n",
        "    # Step 3: Average\n",
        "    Q_next = q_tilde_next  # for piecewise constant reconstruction\n",
        "\n",
        "    return Q_next"
      ]
    },
    {
      "cell_type": "code",
      "execution_count": null,
      "metadata": {
        "id": "JyCRkt8IiuKn",
        "outputId": "7d1eb69e-c24c-4013-e2b3-06ffd9e4abd4"
      },
      "outputs": [
        {
          "ename": "NameError",
          "evalue": "name 'rea_advection' is not defined",
          "output_type": "error",
          "traceback": [
            "\u001b[1;31m---------------------------------------------------------------------------\u001b[0m",
            "\u001b[1;31mNameError\u001b[0m                                 Traceback (most recent call last)",
            "Cell \u001b[1;32mIn[7], line 28\u001b[0m\n\u001b[0;32m     26\u001b[0m \u001b[38;5;66;03m# Apply the REA algorithm\u001b[39;00m\n\u001b[0;32m     27\u001b[0m \u001b[38;5;28;01mfor\u001b[39;00m _ \u001b[38;5;129;01min\u001b[39;00m \u001b[38;5;28mrange\u001b[39m(num_steps):\n\u001b[1;32m---> 28\u001b[0m     Q \u001b[38;5;241m=\u001b[39m \u001b[43mrea_advection\u001b[49m(Q, c, dt, dx)\n\u001b[0;32m     30\u001b[0m \u001b[38;5;66;03m# Compute the exact solution at final time\u001b[39;00m\n\u001b[0;32m     31\u001b[0m \u001b[38;5;66;03m# u_exact = g(x - c*T)\u001b[39;00m\n\u001b[0;32m     32\u001b[0m u_exact \u001b[38;5;241m=\u001b[39m g(x)\n",
            "\u001b[1;31mNameError\u001b[0m: name 'rea_advection' is not defined"
          ]
        }
      ],
      "source": [
        "\n",
        "# Initialize lists to store h values and errors\n",
        "h_values = []\n",
        "errors = []\n",
        "dtSum = 0\n",
        "# Time interval\n",
        "T = 2.0\n",
        "\n",
        "# Run the function for each k value\n",
        "for k in range(5, 11):\n",
        "    n_nodes = 2**k\n",
        "    h, x = mesh_generator_1d(-1, 1, n_nodes)\n",
        "    dt = 0.5 * h\n",
        "\n",
        "\n",
        "    # Initial cell averages\n",
        "    Q = g(x)\n",
        "\n",
        "    # Advection speed\n",
        "    c = 1.0\n",
        "\n",
        "    dtSum += c*dt\n",
        "\n",
        "    # Number of time steps\n",
        "    num_steps = int(T / dt)\n",
        "\n",
        "    # Apply the REA algorithm\n",
        "    for _ in range(num_steps):\n",
        "        Q = rea_advection(Q, c, dt, dx)\n",
        "\n",
        "    # Compute the exact solution at final time\n",
        "    # u_exact = g(x - c*T)\n",
        "    u_exact = g(x)\n",
        "\n",
        "    # Compute the error at final time\n",
        "    error = np.linalg.norm(np.abs(Q - u_exact),ord = 1)\n",
        "\n",
        "    # Store h and error\n",
        "    h_values.append(h)\n",
        "    errors.append(error*h)\n",
        "\n",
        "\n"
      ]
    },
    {
      "cell_type": "code",
      "execution_count": null,
      "metadata": {
        "id": "rFALJ2jmiuKo",
        "outputId": "4344fdae-42d9-4e29-862c-042c61bb2b27"
      },
      "outputs": [
        {
          "data": {
            "image/png": "[encoded data removed]",
            "text/plain": [
              "<Figure size 640x480 with 1 Axes>"
            ]
          },
          "metadata": {},
          "output_type": "display_data"
        }
      ],
      "source": [
        "# Plot the convergence\n",
        "plt.loglog(h_values, errors, 'o-', label='REA')\n",
        "plt.loglog(h_values, h_values, '--', label='h')\n",
        "plt.xlabel('h')\n",
        "plt.ylabel('Error')\n",
        "plt.legend()\n",
        "plt.show()"
      ]
    },
    {
      "cell_type": "code",
      "execution_count": null,
      "metadata": {
        "id": "0b-o9guViuKr"
      },
      "outputs": [],
      "source": []
    },
    {
      "cell_type": "code",
      "execution_count": null,
      "metadata": {
        "id": "nUChyvMfiuKs",
        "outputId": "7b90c24b-e98a-46f9-9360-2ac5b367cee9"
      },
      "outputs": [
        {
          "name": "stdout",
          "output_type": "stream",
          "text": [
            "[5]\n"
          ]
        },
        {
          "data": {
            "image/png": "[encoded data removed]",
            "text/plain": [
              "<Figure size 1000x600 with 1 Axes>"
            ]
          },
          "metadata": {},
          "output_type": "display_data"
        }
      ],
      "source": []
    },
    {
      "cell_type": "code",
      "execution_count": null,
      "metadata": {
        "id": "Wu27D2nIiuKt"
      },
      "outputs": [],
      "source": [
        "\n",
        "# Time interval\n",
        "T = 2.0\n",
        "\n",
        "# Initialize the figure\n",
        "fig = plt.figure(figsize=(5, 5))\n",
        "\n",
        "# Run the function for each k value\n",
        "for k in range(5, 13):\n",
        "    n_nodes = 2**k\n",
        "    h, x = mesh_generator_1d(-1, 1, n_nodes)\n",
        "    dt = 0.5 * h\n",
        "\n",
        "    # Initial cell averages\n",
        "    Q = g(x)\n",
        "\n",
        "    # Advection speed\n",
        "    c = 1.0\n",
        "\n",
        "    # Number of time steps\n",
        "    num_steps = int(T / dt)\n",
        "\n",
        "    # Apply the REA algorithm and plot each step\n",
        "    for n in range(num_steps):\n",
        "        Q = rea_advection(Q, c, dt, dx)\n",
        "\n",
        "        # Clear the figure\n",
        "        fig.clear()\n",
        "\n",
        "        # Plot the current solution\n",
        "        plt.plot(x, Q, label=f'Time Step: {n}/{num_steps}')\n",
        "        plt.xlim(min(x), max(x))\n",
        "        plt.ylim(min(Q), max(Q))\n",
        "        plt.xlabel('$x$')\n",
        "        plt.ylabel('approximation of $u$')\n",
        "        plt.legend()\n",
        "        plt.title('REA Method for Advection Equation')\n",
        "\n",
        "        # Display the figure\n",
        "        display(fig)\n",
        "        time.sleep(0.001)\n",
        "        clear_output(wait=True)\n"
      ]
    },
    {
      "cell_type": "code",
      "execution_count": null,
      "metadata": {
        "id": "a8wrL9WYiuKu"
      },
      "outputs": [],
      "source": [
        "def godunov_advection(Q, c, dt, dx):\n",
        "    # Number of grid cells\n",
        "    n = len(Q)\n",
        "\n",
        "    # Initialize the next time step solution\n",
        "    Q_next = np.zeros_like(Q)\n",
        "\n",
        "    # Apply Godunov's method\n",
        "    for i in range(n):\n",
        "        if i == 0:  # boundary condition\n",
        "            flux = c * min(Q[i], Q[-1]) if c > 0 else c * max(Q[i], Q[-1])\n",
        "            Q_next[i] = Q[i] - dt / dx * (flux - c * Q[-1])\n",
        "        else:\n",
        "            flux = c * min(Q[i], Q[i-1]) if c > 0 else c * max(Q[i], Q[i-1])\n",
        "            Q_next[i] = Q[i] - dt / dx * (flux - c * Q[i-1])\n",
        "\n",
        "    # Apply periodic boundary conditions\n",
        "    Q_next[0] = Q_next[-1]\n",
        "\n",
        "    return Q_next"
      ]
    },
    {
      "cell_type": "code",
      "execution_count": null,
      "metadata": {
        "id": "Ypi3uuLHiuKu"
      },
      "outputs": [],
      "source": [
        "\n",
        "# Initialize lists to store h values and errors\n",
        "h_values = []\n",
        "errors = []\n",
        "\n",
        "# Time interval\n",
        "T = 2.0\n",
        "\n",
        "# Run the function for each k value\n",
        "for k in range(5, 13):\n",
        "    n_nodes = 2**k\n",
        "    h, x = mesh_generator_1d(-1, 1, n_nodes)\n",
        "    dt = 0.5 * h\n",
        "\n",
        "    # Initial cell averages\n",
        "    Q = g(x)\n",
        "\n",
        "    # Advection speed\n",
        "    c = 0.5\n",
        "\n",
        "    # Number of time steps\n",
        "    num_steps = int(T / dt)\n",
        "\n",
        "    # Apply the Godunov's method\n",
        "    for _ in range(num_steps):\n",
        "        Q = godunov_advection(Q, c, dt, dx)\n",
        "\n",
        "    # Compute the exact solution at final time\n",
        "    u_exact = g(x - c*T)\n",
        "\n",
        "    # Compute the error at final time\n",
        "    error = np.max(np.abs(Q - u_exact))\n",
        "\n",
        "    # Store h and error\n",
        "    h_values.append(h)\n",
        "    errors.append(error)\n",
        "\n",
        "\n"
      ]
    },
    {
      "cell_type": "code",
      "execution_count": null,
      "metadata": {
        "id": "l54j_gT5iuKw"
      },
      "outputs": [],
      "source": [
        "# Plot the convergence\n",
        "plt.loglog(h_values, errors, 'o-', label='Numerical')\n",
        "plt.loglog(h_values, h_values, '--', label='h')\n",
        "plt.xlabel('h')\n",
        "plt.ylabel('Error')\n",
        "plt.legend()\n",
        "plt.show()"
      ]
    },
    {
      "cell_type": "code",
      "execution_count": null,
      "metadata": {
        "id": "zNcuwT7ziuKx"
      },
      "outputs": [],
      "source": [
        "\n",
        "# Define the initial condition function g(x)\n",
        "def g(x):\n",
        "    sigma = 0.01\n",
        "    return np.exp(-x**2 / sigma**2)\n",
        "\n",
        "\n",
        "# Time interval\n",
        "T = 2.0\n",
        "\n",
        "# Initialize the figure\n",
        "fig = plt.figure(figsize=(5, 5))\n",
        "\n",
        "# Run the function for each k value\n",
        "for k in range(5, 15):\n",
        "    n_nodes = 2**k\n",
        "    h, x = mesh_generator_1d(-1, 1, n_nodes)\n",
        "    dt = 0.5 * h\n",
        "\n",
        "    # Initial cell averages\n",
        "    Q = g(x)\n",
        "\n",
        "    # Advection speed\n",
        "    c = 0.5\n",
        "\n",
        "    # Number of time steps\n",
        "    num_steps = int(T / dt)\n",
        "\n",
        "    # Apply the Godunov's method and plot each step\n",
        "    for n in range(num_steps):\n",
        "        Q = godunov_advection(Q, c, dt, dx)\n",
        "\n",
        "        # Clear the figure\n",
        "        fig.clear()\n",
        "\n",
        "        # Plot the current solution\n",
        "        plt.plot(x, Q, label=f'Time Step: {n}/{num_steps}')\n",
        "        plt.xlim(min(x), max(x))\n",
        "        plt.ylim(min(Q), max(Q))\n",
        "        plt.xlabel('$x$')\n",
        "        plt.ylabel('approximation of $u$')\n",
        "        plt.legend()\n",
        "        plt.title('Godunov\\'s Method for Advection Equation')\n",
        "\n",
        "        # Display the figure\n",
        "        display(fig)\n",
        "        time.sleep(0.001)\n",
        "        clear_output(wait=True)\n"
      ]
    },
    {
      "cell_type": "markdown",
      "metadata": {
        "id": "zfwgDea_iuKz"
      },
      "source": [
        "Here you seek a numerical solution of $\\textbf{Burgers' equation}$\n",
        "\n",
        "\\begin{equation}\n",
        "       \\partial_t u + \\frac{1}{2}\\partial_x u^2 = 0,\n",
        "\\end{equation}\n",
        "\n",
        "in the domain $\\Omega = [-1,1]$ and a time interval $[0,0.25]$. The boundary condition is $u(0,t) = 3$ and the initial condition is\n",
        "    \n",
        "\\begin{equation}\n",
        "    u(x,0) = \\left\\{\n",
        "    \\begin{aligned}\n",
        "        3, &\\,\\,\\quad ~if \\quad x<0 ,\\\\\n",
        "        1 &\\,\\, \\quad ~if \\quad x>0.\n",
        "    \\end{aligned}\n",
        "    \\right.\n",
        "\\end{equation}"
      ]
    },
    {
      "cell_type": "markdown",
      "metadata": {
        "id": "LJRWKGUiiuK0"
      },
      "source": [
        "Given Piecewise constant initial data $u_l = 3 > 1 = u_r$  implies this is case 1 where there is a unique weak solution. Appying the Rankine-Hugoniot  condition\n",
        "\n",
        "$$\\frac{f(u_r)-f(u_l)}{u_l - u_r} =\\frac{ \\frac{1}{2} 1^2 - \\frac{1}{2} 3^2}{1-3} = 2 = s$$\n",
        "\n",
        "Given s = speed of propogation we our exact solution is:\n",
        "$$ u(x, t) = \\begin{cases}\n",
        "    3 & \\text{if } x < 2t \\\\\n",
        "    1 & \\text{if } x \\geq 2t\n",
        "\\end{cases}\n",
        "$$"
      ]
    },
    {
      "cell_type": "markdown",
      "metadata": {
        "id": "Oy18a93NiuK2"
      },
      "source": [
        "\n",
        "Godunov's method (Hesthaven p124)\n",
        "$$u_j^{n+1} = u_j^n - \\frac{k}{h}[F_{j+\\frac{1}{2}}^n - F_{j-\\frac{1}{2}}^n]$$\n",
        "The scheme is in conservation form by construction ensuring correct shock speeds. Unknown is the cell average rather than the point value as with the finite difference scheme.\n",
        "\n",
        "Consider Burgers's equation\n",
        "$$ u_{j+\\frac{1}{2}}^* =   \\left\\{\n",
        "\\begin{array}{ll}\n",
        "      u_l, & s \\geq 0\\\\\n",
        "      u_r, & s < 0\\\\\n",
        "\\end{array}\n",
        "\\right.  $$\n",
        "\n",
        "$$ s = \\frac{f(u_l)-f(u_r)}{u_l - u_r}$$\n",
        "\n",
        "$$u_j^{n+1} = u_j^n - \\frac{k}{h} [f(u_{j+\\frac{1}{2}}^*) - f(u_{j-\\frac{1}{2}}^*)] $$\n",
        "$u^*$ is computed by solving the Riemann problem exactly and selecting the correct entropy solution.\n",
        "\n"
      ]
    },
    {
      "cell_type": "markdown",
      "metadata": {
        "id": "lDn0mdp8iuK3"
      },
      "source": [
        "\n",
        "Godunov flux (Hesthaven p126)\n",
        "$$F(u,v) = \\begin{cases}\n",
        "    f(u), & u \\geq v, & f(u) \\geq f(v)\\\\\n",
        "    f(v), & u \\geq v, & f(u) < f(v)\\\\\n",
        "    f(u), & u < v, & f'(u) \\geq 0\\\\\n",
        "    f(v), & u < v, & f'(v) < 0\\\\\n",
        "    f(f^{-1}(0)), & Otherwise\\\\\n",
        "\\end{cases}$$\n",
        "\n"
      ]
    },
    {
      "cell_type": "markdown",
      "metadata": {
        "id": "NsdgjsVViuK4"
      },
      "source": [
        "Godunov flux function for convex scalar conservation law (Leveque Red p228)\n",
        "\n",
        "$$F_{i-\\frac{1}{2}}^n = \\begin{cases}\n",
        "    f(Q_{i-1}) & \\text{if } Q_{i-1} > q_s &\\text{and} &s > 0\\\\\n",
        "    f(Q_i) & \\text{if } Q_i < q_s &\\text{and} &s < 0\\\\\n",
        "    f(q_s) & \\text{if } & Q_{i-1} < q_s < Q_i\\\\\n",
        "\n",
        "    \\end{cases}\n",
        "$$\n",
        "\n",
        "$s$ = $\\frac{[f(Q_i) - f(Q_{i-1})]}{Q_i - Q_{i-1}} $\n",
        "\n",
        "Godunov method reduced to the first-order upwind method\n",
        "\n",
        "$$Q^{n+1}_i = Q_i - \\frac{\\Delta t}{\\Delta x}[f(Q_i)-f(Q_{i-1})] $$\n"
      ]
    },
    {
      "cell_type": "code",
      "execution_count": null,
      "metadata": {
        "id": "7H8hIXc_iuK5"
      },
      "outputs": [],
      "source": [
        "def godunov_flux(Q_i_minus_1, Q_i, q_s, s, f):\n",
        "\n",
        "    \"\"\"\n",
        "    Godunov flux function for convex scalar conservation law.\n",
        "    Q_i_minus_1: Q_{i-1}\n",
        "    Q_i: Q_i\n",
        "    q_s = 0 for burgers\n",
        "    s: speed\n",
        "    f: flux function\n",
        "    \"\"\"\n",
        "    if Q_i_minus_1 > q_s and s > 0:\n",
        "        return f(Q_i_minus_1)\n",
        "    elif Q_i < q_s and s < 0:\n",
        "        return f(Q_i)\n",
        "    elif Q_i_minus_1 < q_s < Q_i:\n",
        "        return f(q_s)\n",
        "    else:\n",
        "        raise ValueError(\"Invalid states.\")\n",
        "\n",
        "# def godunov_method(Q, delta_t, delta_x, f, godunov_flux):\n",
        "#     Q_next = Q.copy()\n",
        "#     for i in range(1, len(Q) - 1):  # we skip the first and last points\n",
        "#         s = (f(Q[i]) - f(Q[i-1])) / (Q[i]-Q[i-1])\n",
        "#         q_s = 0\n",
        "#         try:\n",
        "#             flux_right = godunov_flux(Q[i], Q[i+1], q_s, s, f)\n",
        "#             flux_left = godunov_flux(Q[i-1], Q[i], q_s, s, f)\n",
        "#         except ValueError:\n",
        "#             print(f\"Q_i: {Q[i]}, Q_i_minus_1: {Q[i-1]}, q_s: {q_s}\")\n",
        "#             flux_right = flux_left = 0  # or some other default value\n",
        "#         Q_next[i] = Q[i] - dt / dx * (flux_right - flux_left)\n",
        "#     return Q_next\n",
        "\n",
        "\n",
        "def godunov_method(Q, delta_t, delta_x, f, godunov_flux):\n",
        "    Q_next = Q.copy()\n",
        "    for i in range(1, len(Q) - 1):  # we skip the first and last points\n",
        "        s = (f(Q[i]) - f(Q[i-1])) / (Q[i]-Q[i-1])\n",
        "        # q_s = (Q[i] + Q[i-1]) / 2 - delta_t * s / (2 * delta_x)\n",
        "        q_s = 0\n",
        "        try:\n",
        "            Q_next[i] = Q[i] - delta_t / delta_x * (godunov_flux(Q[i], Q[i+1],q_s,s,f)\n",
        "                                                    - godunov_flux(Q[i-1], Q[i],q_s,s,f))\n",
        "        except ValueError:\n",
        "            print(f\"Q_i: {Q[i]}, Q_i_minus_1: {Q[i-1]}, q_s: {q_s}\")\n",
        "        Q_next[i] = Q[i]\n",
        "\n",
        "    return Q_next\n",
        "\n",
        "\n",
        "\n",
        "\n"
      ]
    },
    {
      "cell_type": "code",
      "execution_count": null,
      "metadata": {
        "id": "9PJF0Ed4iuK5"
      },
      "outputs": [],
      "source": [
        "# i = 3\n",
        "# Q = u0\n",
        "# # Q\n",
        "# s = (f(Q[i]) - f(Q[i-1])) / (Q[i]-Q[i-1])\n",
        "# # for i in range(1,len(Q)-1):\n",
        "# s\n",
        "# # print(f'u0 = {Q}')\n",
        "# # godunov_flux(3,1,0,))"
      ]
    },
    {
      "cell_type": "code",
      "execution_count": null,
      "metadata": {
        "id": "92_z3pAxiuK6"
      },
      "outputs": [],
      "source": []
    },
    {
      "cell_type": "code",
      "execution_count": null,
      "metadata": {
        "id": "AvQOseDmiuK7"
      },
      "outputs": [],
      "source": [
        "# k = 2\n",
        "# nNodes = 2*k +1\n",
        "# xL = -1\n",
        "# xR = 1\n",
        "# t0 = 0\n",
        "# T = 0.25\n",
        "\n",
        "# h,x = mesh_generator_1d(xL,xR,nNodes)\n",
        "# u0 = u_initial(x)"
      ]
    },
    {
      "cell_type": "code",
      "execution_count": null,
      "metadata": {
        "id": "0OzmF6iyiuK8"
      },
      "outputs": [],
      "source": []
    },
    {
      "cell_type": "markdown",
      "metadata": {
        "id": "kZFWa-_wiuK9"
      },
      "source": [
        "Harten-Lax-van Leer (HLL) flux (Hesthaven 136)\n",
        "\n",
        "$$ f^*(u_l, u_r) = \\begin{cases}\n",
        "    f(u_l) & \\text{if } x^- \\geq 0 \\\\\n",
        "    f^*_l & \\text{if } s^* \\geq 0 \\geq s^- \\\\\n",
        "\tf^*_r &\\text{if }  s^+ \\geq 0 \\geq s^*\\\\\n",
        "\tf(u_r) &\\text{if } s^+ \\leq 0\n",
        "\\end{cases}\n",
        "$$\n"
      ]
    },
    {
      "cell_type": "code",
      "execution_count": null,
      "metadata": {
        "id": "2kaefF_DiuK-"
      },
      "outputs": [],
      "source": [
        "# Define the mesh generator\n",
        "def mesh_generator_1d(x_l, x_r, n_nodes):\n",
        "    h = (x_r - x_l) / (n_nodes-1)\n",
        "    x_coords = np.linspace(x_l, x_r, n_nodes)\n",
        "    return h, x_coords\n"
      ]
    },
    {
      "cell_type": "code",
      "execution_count": null,
      "metadata": {
        "id": "kaJSMfCtiuK_"
      },
      "outputs": [],
      "source": [
        "# Define the mesh generator\n",
        "def mesh_generator_1d(x_l, x_r, n_nodes):\n",
        "    h = (x_r - x_l) / (n_nodes-1)\n",
        "    x_coords = np.linspace(x_l, x_r, n_nodes)\n",
        "    return h, x_coords\n",
        "\n",
        "# Define the initial condition\n",
        "def u_initial(x):\n",
        "    return np.where(x <= 0, 3, 1)\n",
        "\n",
        "# Define the exact solution\n",
        "def u_exact(x, t):\n",
        "    return np.where(x < 2*t, 3, 1)\n",
        "\n",
        "# Define the flux function\n",
        "def f(u):\n",
        "    return np.power(u, 2) / 2\n",
        "\n",
        "def df(u):\n",
        "    return u\n",
        "\n",
        "def df_inv(u):\n",
        "    if u > 0:\n",
        "     return 1/u\n",
        "    else: return np.abs(1/u)\n"
      ]
    },
    {
      "cell_type": "code",
      "execution_count": null,
      "metadata": {
        "id": "n-k4scXtiuLA"
      },
      "outputs": [],
      "source": [
        "\n",
        "# # Define the domain and grid size\n",
        "# x_l = -1.0\n",
        "# x_r = 1.0\n",
        "# T = 0.25\n",
        "# t0 = 0\n",
        "\n",
        "\n",
        "# # Perform the convergence analysis\n",
        "# errors = []\n",
        "# h_val = []\n",
        "# h2_val = []\n",
        "# error2 = []\n",
        "\n",
        "# k_values = range(2, 8)\n",
        "# for k in k_values:\n",
        "#     n_nodes = 2**k + 1\n",
        "#     h, x = mesh_generator_1d(x_l, x_r, n_nodes)\n",
        "#     dt = h/3\n",
        "#     u = np.zeros((int(np.ceil(T/dt))+1, len(x)))\n",
        "#     u0 = u_initial(x)\n",
        "#     for n in range(1, int(np.ceil(T/dt))):\n",
        "#         # u = godunov_burgers_eq(f, df, df_inv, t0, T, x, h, u0)\n",
        "#         u0 = godunov_method(u0,dt,h,f,godunov_flux)\n",
        "#         u[n] = u0\n",
        "#         # u = godunov_burgers_eq_animation()\n",
        "#     error = np.linalg.norm(u[0] - u_exact(x, T), ord = 1)\n",
        "#     errors.append(error*h)\n",
        "#     error2.append(error*h**2)\n",
        "\n",
        "#     h_val.append(h)\n",
        "#     h2_val.append(h**2)\n",
        "\n",
        "\n"
      ]
    },
    {
      "cell_type": "code",
      "execution_count": null,
      "metadata": {
        "id": "JstyMlYGiuLC"
      },
      "outputs": [],
      "source": [
        "import numpy as np\n",
        "\n",
        "# Define the domain and grid size\n",
        "x_l = -1.0\n",
        "x_r = 1.0\n",
        "T = 0.25\n",
        "t0 = 0\n",
        "\n",
        "# Define the flux function for the Burgers' equation\n",
        "def f(Q):\n",
        "    return 0.5 * Q**2\n",
        "\n",
        "def godunov_flux(u_left, u_right, q_s, s, f):\n",
        "    \"\"\" Compute the Godunov flux \"\"\"\n",
        "    if s >= 0:\n",
        "        return f(u_left)\n",
        "    elif u_left <= q_s <= u_right:\n",
        "        return f(q_s)\n",
        "    else:\n",
        "        return f(u_right)\n",
        "\n",
        "# Perform the convergence analysis\n",
        "errors = []\n",
        "h_val = []\n",
        "h2_val = []\n",
        "error2 = []\n",
        "\n",
        "k_values = range(2, 5)\n",
        "for k in k_values:\n",
        "    n_nodes = 2**k + 1\n",
        "    h, x = mesh_generator_1d(x_l, x_r, n_nodes)\n",
        "    dt = h/3\n",
        "    u = np.zeros((int(np.ceil(T/dt))+1, len(x)))\n",
        "    u0 = u_initial(x)\n",
        "\n",
        "    # Find the index where the initial condition changes\n",
        "    change_index = np.where(np.diff(u0) != 0)[0][0] + 1\n",
        "\n",
        "    for n in range(1, int(np.ceil(T/dt))):\n",
        "        u0_old = u0.copy()\n",
        "        for i in range(change_index, len(u0)-1 ):  # start from the change_index\n",
        "            s = (f(u0_old[i]) - f(u0_old[i-1])) / (u0_old[i]-u0_old[i-1])\n",
        "            q_s = 0\n",
        "            try:\n",
        "                u0[i] = u0_old[i] - dt / dx * (godunov_flux(u0_old[i], u0_old[i+1], q_s, s, f)\n",
        "                                                - godunov_flux(u0_old[i-1], u0_old[i], q_s, s, f))\n",
        "            except ValueError:\n",
        "                print(f\"Q_i: {u0_old[i]}, Q_i_minus_1: {u0_old[i-1]}, q_s: {q_s}\")\n",
        "                continue  # skip to the next iteration\n",
        "        u[n] = u0\n",
        "    error = np.linalg.norm(u[-1] - u_exact(x, T), ord = 1)\n",
        "    errors.append(error*h)\n",
        "    error2.append(error*h**2)\n",
        "\n",
        "    h_val.append(h)\n",
        "    h2_val.append(h**2)\n"
      ]
    },
    {
      "cell_type": "code",
      "execution_count": null,
      "metadata": {
        "id": "lkbA1V1SiuLD"
      },
      "outputs": [],
      "source": [
        "len(u_exact(x,T))\n",
        "u[-2]\n",
        "u_exact(x,T)"
      ]
    },
    {
      "cell_type": "code",
      "execution_count": null,
      "metadata": {
        "id": "WzX2Hee3iuLE"
      },
      "outputs": [],
      "source": [
        "import numpy as np\n",
        "\n",
        "# Define the initial condition, domain, and time interval\n",
        "u0 = np.array([3, 3, 3, 1, 1])\n",
        "domain = [-1, 1]\n",
        "time_interval = [0, 0.25]\n",
        "\n",
        "# Define the discretization parameters\n",
        "dx = (domain[1] - domain[0]) / (len(u0) - 1)\n",
        "dt = (time_interval[1] - time_interval[0]) / 100  # for example\n",
        "\n",
        "# Initialize the solution with the initial condition\n",
        "Q = np.copy(u0)\n",
        "\n",
        "# Define the flux function for the Burgers' equation\n",
        "def f(Q):\n",
        "    return 0.5 * Q**2\n",
        "\n",
        "# Time-stepping loop\n",
        "for n in range(100):  # for example\n",
        "    Q = godunov_method(Q, dt, dx, f, godunov_flux)\n"
      ]
    },
    {
      "cell_type": "code",
      "execution_count": null,
      "metadata": {
        "id": "mAHWuMnMiuLF"
      },
      "outputs": [],
      "source": [
        "# Generate the convergence plot\n",
        "plt.figure()\n",
        "plt.loglog(h_val, errors, 'o-', label = 'Godunov')\n",
        "plt.loglog(h_val, h_val, 'o-', label = 'h')\n",
        "\n",
        "plt.xlabel('h')\n",
        "plt.ylabel('Error at final time (1-norm)')\n",
        "plt.title('Convergence plot')\n",
        "plt.legend()\n",
        "plt.grid(True)\n",
        "plt.show()"
      ]
    },
    {
      "cell_type": "code",
      "execution_count": null,
      "metadata": {
        "id": "jAf0JDAUiuLH"
      },
      "outputs": [],
      "source": [
        "# Generate the convergence plot\n",
        "plt.figure()\n",
        "plt.loglog(h2_val, error2, 'o-', label = 'Godunov')\n",
        "plt.loglog(h2_val, h2_val, 'o-', label = 'h**2')\n",
        "\n",
        "plt.xlabel('h')\n",
        "plt.ylabel('Error at final time (1-norm)')\n",
        "plt.title('Convergence plot')\n",
        "plt.legend()\n",
        "plt.grid(True)\n",
        "plt.show()"
      ]
    },
    {
      "cell_type": "code",
      "execution_count": null,
      "metadata": {
        "id": "IBTjzyEPiuLI"
      },
      "outputs": [],
      "source": [
        "\n",
        "def godunov_burgers_eq_animation(f, godunov_flux, t0, T, x, h, u0):\n",
        "    dt = h / 3\n",
        "    Nt = int((T - t0) / dt)\n",
        "    u = np.zeros((Nt + 1, len(x)))\n",
        "    u[0] = u0\n",
        "\n",
        "    fig = plt.figure(figsize=(5, 5))\n",
        "    for n in range(Nt):\n",
        "        u[n + 1] = godunov_method(u[n], dt, h, f, godunov_flux)\n",
        "\n",
        "        fig.clear()\n",
        "        plt.plot(x, u[n], label=f'Time Step: {n}/{Nt}')\n",
        "        plt.xlim(min(x), max(x))\n",
        "        plt.xlabel('$x$')\n",
        "        plt.ylabel('approximation of $u$')\n",
        "        plt.legend()\n",
        "        plt.title(f'Godunov Method for Burgers Equation')\n",
        "\n",
        "        display(fig)\n",
        "        time.sleep(0.001)\n",
        "        clear_output(wait=True)\n"
      ]
    },
    {
      "cell_type": "code",
      "execution_count": null,
      "metadata": {
        "id": "a6jaUeKAiuLJ"
      },
      "outputs": [],
      "source": [
        "godunov_burgers_eq_animation(f,godunov_flux,t0,T,x,h,u0)"
      ]
    },
    {
      "cell_type": "code",
      "execution_count": null,
      "metadata": {
        "id": "qlRzQ3hbiuLK"
      },
      "outputs": [],
      "source": [
        "# def Godunov(f, f_prime, f_type, f_extrema):\n",
        "#     def flux(j, u, dx, dt):\n",
        "#         if f_type == 'convex':\n",
        "#             flux = max(f(max(u[j], f_extrema)), f(min(u[j+1], f_extrema)))\n",
        "#         elif f_type == 'concave':\n",
        "#             flux = min(f(min(u[j], f_extrema)), f(max(u[j+1], f_extrema)))\n",
        "#         else:\n",
        "#             flux = 0\n",
        "#         return flux\n",
        "#     return flux\n"
      ]
    }
  ],
  "metadata": {
    "kernelspec": {
      "display_name": ".venv",
      "language": "python",
      "name": "python3"
    },
    "language_info": {
      "codemirror_mode": {
        "name": "ipython",
        "version": 3
      },
      "file_extension": ".py",
      "mimetype": "text/x-python",
      "name": "python",
      "nbconvert_exporter": "python",
      "pygments_lexer": "ipython3",
      "version": "3.11.2"
    },
    "colab": {
      "provenance": [],
      "include_colab_link": true
    }
  },
  "nbformat": 4,
  "nbformat_minor": 0
}